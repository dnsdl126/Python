{
 "cells": [
  {
   "cell_type": "markdown",
   "metadata": {},
   "source": [
    "## 학습목표\n",
    "  * 반복문의 이해 및 활용 (while)"
   ]
  },
  {
   "cell_type": "markdown",
   "metadata": {},
   "source": [
    "### loop(반복문)\n",
    " + 반복적인 작업을 가능하게 해주는 도구\n",
    " + 특정 조건을 만족하는 경우 수행할 수 있음 (while)\n",
    " + 리스트, 문자열, 튜플 등 컬렉션 타입외 아이템을 하나씩 순회하면서 사용 가능 (for)\n",
    " + 코드 작업에서, 가장 많이 사용하는 구분 중 하나\n",
    " + 주의할점 : while을 사용할 경우, 반복을 멈추게 하는 장치가 필요\n",
    "   + 그렇지 않으면 셀이 문한히 수행되며, jupyter notebook의 재부팅 필요"
   ]
  },
  {
   "cell_type": "markdown",
   "metadata": {},
   "source": [
    "#### while 키워드 \n",
    "  - while 뒤의 조건이 True일 경우, while 의 코드 블록을 계속 수행\n",
    "  - while 코드 블록\n",
    "    - if와 마찬가지로 while문 아래의 들여쓰 기로 작성 된 부분을 의미\n",
    "  - 조건이 False가 되면 블록 수행을 멈추고 이후 코드를 실행  "
   ]
  },
  {
   "cell_type": "markdown",
   "metadata": {},
   "source": [
    "#### while 키워드 이용하여 리스트의 아이템 출력하기"
   ]
  },
  {
   "cell_type": "code",
   "execution_count": 7,
   "metadata": {},
   "outputs": [
    {
     "ename": "IndentationError",
     "evalue": "unindent does not match any outer indentation level (<tokenize>, line 8)",
     "output_type": "error",
     "traceback": [
      "\u001b[1;36m  File \u001b[1;32m\"<tokenize>\"\u001b[1;36m, line \u001b[1;32m8\u001b[0m\n\u001b[1;33m    print('hahah')\u001b[0m\n\u001b[1;37m    ^\u001b[0m\n\u001b[1;31mIndentationError\u001b[0m\u001b[1;31m:\u001b[0m unindent does not match any outer indentation level\n"
     ]
    }
   ],
   "source": [
    "a = [1, 10, 9, 24]\n",
    "\n",
    "i = 0 # 인덱스\n",
    "while i < len(a): #len = lengh 길이의 약자\n",
    "    print('value: ', a[i], ', index: ', i)\n",
    "    i += 1\n",
    "    \n",
    " print('hahah')   "
   ]
  },
  {
   "cell_type": "markdown",
   "metadata": {},
   "source": [
    "#### while 키워드 이용하여 리스트의 아이템 출력하기\n",
    " - 조건문과 함께 사용하기 "
   ]
  },
  {
   "cell_type": "code",
   "execution_count": 8,
   "metadata": {},
   "outputs": [
    {
     "name": "stdout",
     "output_type": "stream",
     "text": [
      "24\n",
      "25\n",
      "26\n"
     ]
    }
   ],
   "source": [
    "a = [1, 10, 9 ,24 ,25, 26]\n",
    "\n",
    "i = 0 # 인덱스\n",
    "while i < len(a):\n",
    "    if a[i] > 20: # 20보다 큰 경우만 출력하기\n",
    "        print(a[i])\n",
    "    i += 1    "
   ]
  },
  {
   "cell_type": "code",
   "execution_count": 9,
   "metadata": {},
   "outputs": [
    {
     "name": "stdout",
     "output_type": "stream",
     "text": [
      "1\n",
      "5.0\n",
      "9\n",
      "12.0\n",
      "25\n",
      "13.0\n"
     ]
    }
   ],
   "source": [
    "a = [1, 10, 9 ,24 ,25, 26]\n",
    "\n",
    "i = 0 # 인덱스\n",
    "while i < len(a):\n",
    "    if a[i] % 2: # 홀수인 겨우만 출력하기\n",
    "        print(a[i])\n",
    "    else:\n",
    "        print(a[i] / 2)\n",
    "    i += 1    "
   ]
  },
  {
   "cell_type": "markdown",
   "metadata": {},
   "source": [
    "##### 무한루프\n",
    " - while의 경우 종료가 되지 않도록 코드를 작성하면 블록에서 빠져나올수 없음"
   ]
  },
  {
   "cell_type": "markdown",
   "metadata": {},
   "source": [
    "while True:\n",
    "    print('haha')"
   ]
  },
  {
   "cell_type": "markdown",
   "metadata": {},
   "source": [
    "#### break\n",
    " + loop를 중단할 때 사용\n",
    " + 보통 조건문 안에서 수행되며, 조건을 만족하는 경우 loop를 탈출하기 위해 사용\n",
    " + loop를 중단 하는 경우, while 이후의 코드를 수행"
   ]
  },
  {
   "cell_type": "code",
   "execution_count": 11,
   "metadata": {},
   "outputs": [
    {
     "name": "stdout",
     "output_type": "stream",
     "text": [
      "1\n",
      "10\n",
      "9\n",
      "hahah\n"
     ]
    }
   ],
   "source": [
    "a = [1, 10, 9, 24, 25, 26]\n",
    "\n",
    "i = 0\n",
    "while i < len(a):\n",
    "    if a[i] > 20:\n",
    "        break\n",
    "    \n",
    "    print(a[i])\n",
    "    \n",
    "    i += 1\n",
    "\n",
    "print('hahah')    "
   ]
  },
  {
   "cell_type": "code",
   "execution_count": 12,
   "metadata": {},
   "outputs": [
    {
     "ename": "SyntaxError",
     "evalue": "invalid syntax (<ipython-input-12-e8c47ba8041c>, line 3)",
     "output_type": "error",
     "traceback": [
      "\u001b[1;36m  File \u001b[1;32m\"<ipython-input-12-e8c47ba8041c>\"\u001b[1;36m, line \u001b[1;32m3\u001b[0m\n\u001b[1;33m    if data = None:\u001b[0m\n\u001b[1;37m            ^\u001b[0m\n\u001b[1;31mSyntaxError\u001b[0m\u001b[1;31m:\u001b[0m invalid syntax\n"
     ]
    }
   ],
   "source": [
    "while True:\n",
    "    data = crawl()\n",
    "    if data = None:\n",
    "        break\n",
    "    print(data)    "
   ]
  },
  {
   "cell_type": "markdown",
   "metadata": {},
   "source": [
    "#### continue\n",
    " +  break 처럼 반복을 중단하며 빠져나오지 않고, 다시 while조건으로 점프함\n",
    " + 특정한 경우에는 코들르 수행하지 않고 다음으로 건너 뛰기 위해 사용"
   ]
  },
  {
   "cell_type": "code",
   "execution_count": 13,
   "metadata": {},
   "outputs": [
    {
     "name": "stdout",
     "output_type": "stream",
     "text": [
      "6\n",
      "4\n",
      "3\n",
      "2\n",
      "1\n",
      "0\n"
     ]
    }
   ],
   "source": [
    "a = 7\n",
    "while a > 0:\n",
    "    a-= 1\n",
    "    if a == 5:\n",
    "        continue\n",
    "    print(a)    "
   ]
  },
  {
   "cell_type": "code",
   "execution_count": 19,
   "metadata": {},
   "outputs": [
    {
     "name": "stdout",
     "output_type": "stream",
     "text": [
      "1 2\n",
      "3 3\n",
      "6 4\n",
      "10 5\n",
      "15 6\n",
      "21 7\n",
      "28 8\n",
      "36 9\n",
      "45 10\n",
      "55 11\n",
      "66 12\n",
      "78 13\n",
      "91 14\n",
      "105 15\n",
      "120 16\n",
      "136 17\n",
      "153 18\n",
      "171 19\n",
      "190 20\n",
      "210 21\n",
      "231 22\n",
      "253 23\n",
      "276 24\n",
      "300 25\n",
      "325 26\n",
      "351 27\n",
      "378 28\n",
      "406 29\n",
      "435 30\n",
      "465 31\n",
      "496 32\n",
      "528 33\n",
      "561 34\n",
      "595 35\n",
      "630 36\n",
      "666 37\n",
      "703 38\n",
      "741 39\n",
      "780 40\n",
      "820 41\n",
      "861 42\n",
      "903 43\n",
      "946 44\n",
      "990 45\n",
      "1035 46\n",
      "1081 47\n",
      "1128 48\n",
      "1176 49\n",
      "1225 50\n",
      "1275 51\n",
      "1326 52\n",
      "1378 53\n",
      "1431 54\n",
      "1485 55\n",
      "1540 56\n",
      "1596 57\n",
      "1653 58\n",
      "1711 59\n",
      "1770 60\n",
      "1830 61\n",
      "1891 62\n",
      "1953 63\n",
      "2016 64\n",
      "2080 65\n",
      "2145 66\n",
      "2211 67\n",
      "2278 68\n",
      "2346 69\n",
      "2415 70\n",
      "2485 71\n",
      "2556 72\n",
      "2628 73\n",
      "2701 74\n",
      "2775 75\n",
      "2850 76\n",
      "2926 77\n",
      "3003 78\n",
      "3081 79\n",
      "3160 80\n",
      "3240 81\n",
      "3321 82\n",
      "3403 83\n",
      "3486 84\n",
      "3570 85\n",
      "3655 86\n",
      "3741 87\n",
      "3828 88\n",
      "3916 89\n",
      "4005 90\n",
      "4095 91\n",
      "4186 92\n",
      "4278 93\n",
      "4371 94\n",
      "4465 95\n",
      "4560 96\n",
      "4656 97\n",
      "4753 98\n",
      "4851 99\n",
      "4950 100\n",
      "5050 101\n",
      "5050\n"
     ]
    }
   ],
   "source": [
    "num = 1\n",
    "_sum = 0\n",
    "\n",
    "while num <= 100:\n",
    "    _sum += num\n",
    "    num +=1\n",
    "    print(_sum, num)\n",
    "    \n",
    "print(_sum) # 1~100까지 합 출력      \n",
    "\n",
    "    "
   ]
  },
  {
   "cell_type": "code",
   "execution_count": null,
   "metadata": {},
   "outputs": [],
   "source": []
  }
 ],
 "metadata": {
  "kernelspec": {
   "display_name": "Python 3",
   "language": "python",
   "name": "python3"
  },
  "language_info": {
   "codemirror_mode": {
    "name": "ipython",
    "version": 3
   },
   "file_extension": ".py",
   "mimetype": "text/x-python",
   "name": "python",
   "nbconvert_exporter": "python",
   "pygments_lexer": "ipython3",
   "version": "3.7.6"
  }
 },
 "nbformat": 4,
 "nbformat_minor": 4
}
