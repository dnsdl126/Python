{
 "cells": [
  {
   "cell_type": "markdown",
   "metadata": {},
   "source": [
    "### 학습목표\n",
    " * 조건문의 이해 및 활용 (if)"
   ]
  },
  {
   "cell_type": "markdown",
   "metadata": {},
   "source": [
    "#### condition(조건문)\n",
    " + 특정 조건을 만족하는 경우에만 수행할 작업이 있는 경우 사용\n",
    " + 모든 조건은 boolean 으로 표현 됨 (예외 사항은 아래 배울 예정)\n",
    " + if, elif, else 키워드가 사용\n",
    " + 조건문의 경우 if, elif, else 블록에 종속된 코드는 들여쓰기로 표현 가능\n",
    " + 즉 아래코드에서와 같이, 조건문 아래에 들여쓰기된 2줄의 코드만이 조건문의 조건에 따라 수행될 수도,\n",
    "   수행되지 않을 수도 있는 코드라고 할 수 있음\n",
    " + 들여쓰기 된 코드를 블록(block), 또는 코드블록이라고 함\n",
    " + pyrhon에서 모든 블록의 시작점의 마지막에는 :(클론, colon) 추가가 필요\n"
   ]
  },
  {
   "cell_type": "code",
   "execution_count": 3,
   "metadata": {},
   "outputs": [
    {
     "name": "stdout",
     "output_type": "stream",
     "text": [
      "6 is greater than5\n",
      "yeaH, it is true\n",
      "it is really true\n",
      "This code is noe belongs to if statements\n"
     ]
    }
   ],
   "source": [
    "if 6 >= 5:\n",
    "    print('6 is greater than5')\n",
    "    print('yeaH, it is true')\n",
    "    print('it is really true')\n",
    "print ('This code is noe belongs to if statements')    \n"
   ]
  },
  {
   "cell_type": "code",
   "execution_count": 5,
   "metadata": {},
   "outputs": [
    {
     "ename": "IndentationError",
     "evalue": "unexpected indent (<ipython-input-5-13c535596104>, line 2)",
     "output_type": "error",
     "traceback": [
      "\u001b[1;36m  File \u001b[1;32m\"<ipython-input-5-13c535596104>\"\u001b[1;36m, line \u001b[1;32m2\u001b[0m\n\u001b[1;33m    if(조건) {\u001b[0m\n\u001b[1;37m    ^\u001b[0m\n\u001b[1;31mIndentationError\u001b[0m\u001b[1;31m:\u001b[0m unexpected indent\n"
     ]
    }
   ],
   "source": [
    "# JAAV\n",
    " if(조건) {\n",
    "     \n",
    " } else if (조건) {\n",
    "     \n",
    " } else {\n",
    "     \n",
    " }\n",
    "    \n",
    "# Pyrhon\n",
    "if  조건 :\n",
    "    pass #조건문 사용후 공백으로 두면 에러가 생긴다, pass를 사용하면 된다\n",
    "elif 조건:\n",
    "    pass\n",
    "else:\n",
    "    pass"
   ]
  },
  {
   "cell_type": "code",
   "execution_count": 7,
   "metadata": {},
   "outputs": [],
   "source": [
    "if 5 > 3:\n",
    "    pass"
   ]
  },
  {
   "cell_type": "code",
   "execution_count": 8,
   "metadata": {},
   "outputs": [],
   "source": [
    "a = 10\n",
    "b = 8\n",
    "c = 11"
   ]
  },
  {
   "cell_type": "code",
   "execution_count": 9,
   "metadata": {},
   "outputs": [
    {
     "ename": "SyntaxError",
     "evalue": "invalid syntax (<ipython-input-9-e0057129c644>, line 1)",
     "output_type": "error",
     "traceback": [
      "\u001b[1;36m  File \u001b[1;32m\"<ipython-input-9-e0057129c644>\"\u001b[1;36m, line \u001b[1;32m1\u001b[0m\n\u001b[1;33m    if (a == 10 or b == 9) and c\u001b[0m\n\u001b[1;37m                                ^\u001b[0m\n\u001b[1;31mSyntaxError\u001b[0m\u001b[1;31m:\u001b[0m invalid syntax\n"
     ]
    }
   ],
   "source": [
    "if (a == 10 or b == 9) and c == 12:\n",
    "    print('that is true')"
   ]
  },
  {
   "cell_type": "code",
   "execution_count": 10,
   "metadata": {},
   "outputs": [],
   "source": [
    "if not a == 10:\n",
    "    print('a is ten')"
   ]
  },
  {
   "cell_type": "markdown",
   "metadata": {},
   "source": [
    "#### if의 조건이 bool이 아닌 경우\n",
    "   + 일반적으로는 조건문에는 bool이 주로 위치 함\n",
    "   + 하지만, 정수, 실수, 문자열 리스트 등 기본 타입도 조건에 사용 가능\n",
    "   + False로 간주되는 값 (가 타입의 기본값)\n",
    "       * Nonde\n",
    "       * 0\n",
    "       * 0.0\n",
    "       * ''\n",
    "       * [] -> 빈 리스트\n",
    "       * () -> 빈 튜플\n",
    "       * {} -> 빈 딕셔너리\n",
    "       * set() -> 빈 집합\n",
    "   * 그 밖에는 모두 True로 간주"
   ]
  },
  {
   "cell_type": "code",
   "execution_count": 11,
   "metadata": {},
   "outputs": [],
   "source": [
    "a = []\n",
    "if a:\n",
    "    print('print')"
   ]
  },
  {
   "cell_type": "markdown",
   "metadata": {},
   "source": [
    "#### 중첩 조건문(nested condition)\n",
    "     - 조건문의 경우 중첩하여 작성 가능\n",
    "     - 중첩의 의미는 depth(깊이)로 생각할 수 있으며, depth의 제한은 없음"
   ]
  },
  {
   "cell_type": "code",
   "execution_count": 18,
   "metadata": {},
   "outputs": [
    {
     "name": "stdout",
     "output_type": "stream",
     "text": [
      "a is ten and b is not 8\n"
     ]
    }
   ],
   "source": [
    "a = 10\n",
    "b = 9\n",
    "c = 8\n",
    "\n",
    "if a ==  10:\n",
    "    if c == 8:\n",
    "        if b == 8:\n",
    "             print('a is ten and b is 8')\n",
    "        else:\n",
    "             print('a is ten and b is not 8')"
   ]
  }
 ],
 "metadata": {
  "kernelspec": {
   "display_name": "Python 3",
   "language": "python",
   "name": "python3"
  },
  "language_info": {
   "codemirror_mode": {
    "name": "ipython",
    "version": 3
   },
   "file_extension": ".py",
   "mimetype": "text/x-python",
   "name": "python",
   "nbconvert_exporter": "python",
   "pygments_lexer": "ipython3",
   "version": "3.7.6"
  }
 },
 "nbformat": 4,
 "nbformat_minor": 4
}
