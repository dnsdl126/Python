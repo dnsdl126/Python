{
 "cells": [
  {
   "cell_type": "markdown",
   "metadata": {},
   "source": [
    "## 학습목표\n",
    " * 반복문의 이해 및 활용(for)\n",
    " * range 함수 이해"
   ]
  },
  {
   "cell_type": "markdown",
   "metadata": {},
   "source": [
    "### for 반복문\n",
    "  - 리스트, 문자열 등등 순회 가능한 객체를 순회하면서 값을 처리할 때 사용\n",
    "  - 아래와 같은 문법으로 사용\n",
    "  - 여기서 i는 매번 수행 될 때마다, a의 아이템으로 순차적으로 변경 됨\n",
    "  - 모든 아이템이 순회되면 for 블록 종료\n",
    "\n",
    "'''python\n",
    "a = [1, 2, 4, 3 ,5]\n",
    "for i in a:\n",
    "    print (i, i*2)\n",
    "'''    "
   ]
  },
  {
   "cell_type": "code",
   "execution_count": 2,
   "metadata": {},
   "outputs": [
    {
     "name": "stdout",
     "output_type": "stream",
     "text": [
      "1 2\n",
      "2 4\n",
      "4 8\n",
      "3 6\n",
      "5 10\n",
      "hahah\n"
     ]
    }
   ],
   "source": [
    "a = [1, 2, 4, 3, 5]\n",
    "for i in a:\n",
    "    print (i, i*2)\n",
    "print('hahah')    "
   ]
  },
  {
   "cell_type": "code",
   "execution_count": 5,
   "metadata": {},
   "outputs": [
    {
     "name": "stdout",
     "output_type": "stream",
     "text": [
      "1\n",
      "2\n",
      "4\n",
      "3\n",
      "5\n",
      "hahah\n"
     ]
    }
   ],
   "source": [
    "a = [1 ,2 ,4 , 3, 5]\n",
    "for number in a:\n",
    "    print(number)\n",
    "print('hahah')    "
   ]
  },
  {
   "cell_type": "code",
   "execution_count": null,
   "metadata": {},
   "outputs": [],
   "source": [
    "'''python\n",
    "# java\n",
    " int[] a = [1, 2, 3, 4, 5];\n",
    " for(int i=0; i<a.lengh; i++){\n",
    "    system.out.println(a[i]);\n",
    "}\n",
    "\n",
    "# Python\n",
    " a = [1, 2, 3, 4, 5]\n",
    " for i in a:\n",
    "     print(i)\n",
    "'''"
   ]
  },
  {
   "cell_type": "markdown",
   "metadata": {},
   "source": [
    "#### 문자열의 아이템 출력하기\n",
    " - 문자열의 경우 순회 가능, 리스트의 유사하게 순회 가능"
   ]
  },
  {
   "cell_type": "code",
   "execution_count": 7,
   "metadata": {},
   "outputs": [
    {
     "name": "stdout",
     "output_type": "stream",
     "text": [
      "h\n",
      "e\n",
      "l\n",
      "l\n",
      "o\n",
      " \n",
      "w\n",
      "o\n",
      "r\n",
      "l\n",
      "d\n"
     ]
    }
   ],
   "source": [
    "for x in 'hello world':\n",
    "    print(x)"
   ]
  },
  {
   "cell_type": "code",
   "execution_count": 8,
   "metadata": {},
   "outputs": [
    {
     "name": "stdout",
     "output_type": "stream",
     "text": [
      "h\n",
      "e\n",
      "l\n",
      "l\n",
      "o\n",
      " \n",
      "w\n",
      "o\n",
      "r\n",
      "l\n",
      "d\n"
     ]
    }
   ],
   "source": [
    "a = 'hello world'\n",
    "for character in a:\n",
    "    print(character)"
   ]
  },
  {
   "cell_type": "markdown",
   "metadata": {},
   "source": [
    "#### 리스트 아이템 출력하기"
   ]
  },
  {
   "cell_type": "code",
   "execution_count": 10,
   "metadata": {},
   "outputs": [
    {
     "name": "stdout",
     "output_type": "stream",
     "text": [
      "2\n",
      "5.0\n",
      "4\n",
      "2.0\n",
      "6\n"
     ]
    }
   ],
   "source": [
    "a = [1, 10, 3, 4, 5]\n",
    "for num in a:\n",
    "    if num % 2 == 0:\n",
    "        print(num/2)\n",
    "    else:\n",
    "        print(num+1)"
   ]
  },
  {
   "cell_type": "markdown",
   "metadata": {},
   "source": [
    "#### dict의 아이템 출력하기\n",
    " - dictionary의 경우 기본적으로 순회 하게 되면 key값을 참조\n",
    " - keys()함수를 이용하여 key 값만 순회 가능\n",
    " - values()함수를 이용하여 value 값만 순회 가능\n",
    " - items()함수를 이용하여 tuple형태로 key, value 순회 가능"
   ]
  },
  {
   "cell_type": "code",
   "execution_count": 12,
   "metadata": {},
   "outputs": [
    {
     "name": "stdout",
     "output_type": "stream",
     "text": [
      "korea seoul\n",
      "japan tokyo\n",
      "canada ottawa\n"
     ]
    }
   ],
   "source": [
    " a = {'korea': 'seoul', 'japan': 'tokyo', 'canada': 'ottawa'}\n",
    "for key in a:\n",
    "    print(key, a[key])"
   ]
  },
  {
   "cell_type": "code",
   "execution_count": 13,
   "metadata": {},
   "outputs": [
    {
     "name": "stdout",
     "output_type": "stream",
     "text": [
      "korea\n",
      "japan\n",
      "canada\n"
     ]
    }
   ],
   "source": [
    "for key in a:\n",
    "    print(key)"
   ]
  },
  {
   "cell_type": "code",
   "execution_count": 20,
   "metadata": {},
   "outputs": [
    {
     "name": "stdout",
     "output_type": "stream",
     "text": [
      "seoul\n",
      "tokyo\n",
      "ottawa\n"
     ]
    }
   ],
   "source": [
    "for value in a.values():\n",
    "    print(value)"
   ]
  },
  {
   "cell_type": "code",
   "execution_count": 22,
   "metadata": {},
   "outputs": [
    {
     "name": "stdout",
     "output_type": "stream",
     "text": [
      "korea seoul\n",
      "japan tokyo\n",
      "canada ottawa\n"
     ]
    }
   ],
   "source": [
    "for key, value in a.items():\n",
    "    print(key, value)"
   ]
  },
  {
   "cell_type": "code",
   "execution_count": 23,
   "metadata": {},
   "outputs": [
    {
     "data": {
      "text/plain": [
       "[('korea', 'seoul'), ('japan', 'tokyo'), ('canada', 'ottawa')]"
      ]
     },
     "execution_count": 23,
     "metadata": {},
     "output_type": "execute_result"
    }
   ],
   "source": [
    "list(a.items())"
   ]
  },
  {
   "cell_type": "markdown",
   "metadata": {},
   "source": [
    "#### for에서 index 사용하기\n",
    " - 기본적으로 for에 리스트를 순회하는 경우, 값만 추출 함\n",
    " - 아래와 같은 코드로 인덱스와 값 모두 사용 가능 (enumerate 함수 이용)\n",
    " \n",
    "'''python\n",
    "a = [1, 2, 4, 3, 5]\n",
    " for i, val in enumerate(a):\n",
    "     print i, val\n",
    "'''"
   ]
  },
  {
   "cell_type": "code",
   "execution_count": 25,
   "metadata": {},
   "outputs": [
    {
     "name": "stdout",
     "output_type": "stream",
     "text": [
      "4 5\n"
     ]
    }
   ],
   "source": [
    "a = [1, 2, 3, 4, 5]\n",
    "for index, num in enumerate(a):\n",
    "    if index > 3:\n",
    "        print(index, num)"
   ]
  },
  {
   "cell_type": "markdown",
   "metadata": {},
   "source": [
    "### breake\n",
    " - for의 경우에도 특정 조건일때, loop종료가 가능"
   ]
  },
  {
   "cell_type": "code",
   "execution_count": 26,
   "metadata": {},
   "outputs": [
    {
     "name": "stdout",
     "output_type": "stream",
     "text": [
      "100\n",
      "90\n",
      "80\n"
     ]
    }
   ],
   "source": [
    "a = [100, 90, 80, 70, 60, 50]\n",
    "for num in a:\n",
    "    if num < 80:\n",
    "        break\n",
    "    \n",
    "    print(num)"
   ]
  },
  {
   "cell_type": "markdown",
   "metadata": {},
   "source": [
    "### continue\n",
    " - 해당 아이템을 건너 띄고 싶을때 사용"
   ]
  },
  {
   "cell_type": "code",
   "execution_count": 27,
   "metadata": {},
   "outputs": [
    {
     "name": "stdout",
     "output_type": "stream",
     "text": [
      "100\n",
      "90\n",
      "80\n",
      "50\n"
     ]
    }
   ],
   "source": [
    "a = [100, 90, 80, 70, 60, 50]\n",
    "for num in a:\n",
    "    if num >=60 and num <=70:\n",
    "        continue\n",
    "    print(num)   "
   ]
  },
  {
   "cell_type": "markdown",
   "metadata": {},
   "source": [
    "#### loop 중첩\n",
    " - 반복문의 경우에도 중첩하여 사용 가능\n",
    " - 중첩이라는 것은 반복문 블록의 코드안에 또 반복문의 코드가 작성되는 것을 의미\n",
    " - 이런 경우, 내부 루프는 외부 루프가 수행되는 만큼 반복 수행됨\n",
    " \n",
    "'''python\n",
    "a = [1, 2, 4]\n",
    "for i in a:\n",
    "    for jin a:\n",
    "        print i*j\n",
    "'''        "
   ]
  },
  {
   "cell_type": "code",
   "execution_count": 30,
   "metadata": {},
   "outputs": [
    {
     "name": "stdout",
     "output_type": "stream",
     "text": [
      "1\n",
      "2\n",
      "4\n",
      "2\n",
      "4\n",
      "8\n",
      "4\n",
      "8\n",
      "16\n"
     ]
    }
   ],
   "source": [
    "a = [1, 2, 4]\n",
    "for i in a:\n",
    "    for j in a:\n",
    "        print( i*j )"
   ]
  },
  {
   "cell_type": "markdown",
   "metadata": {},
   "source": [
    "#### collection의 길이\n",
    " - len() 내장함수로 계산 가능\n",
    " - 내장함수란 파이썬 내부에 내부에 구현되어 있어서, impotr하지 않고도 사용 가능한 함수를 의미\n",
    " - abs, len, type, range 등이 있음 (과정 진행하면서 필요할 때마다 다룰 예쩡)"
   ]
  },
  {
   "cell_type": "code",
   "execution_count": 31,
   "metadata": {},
   "outputs": [
    {
     "data": {
      "text/plain": [
       "11"
      ]
     },
     "execution_count": 31,
     "metadata": {},
     "output_type": "execute_result"
    }
   ],
   "source": [
    "a = [1, 2, 3, 4, 5, 1]\n",
    "len('hello world')"
   ]
  },
  {
   "cell_type": "markdown",
   "metadata": {},
   "source": [
    "#### rage 함수\n",
    " - 리스트를 쉽게 만들수 있는 내장함수\n",
    " - 주어진 값에 따라 다양한 결과를 반환\n",
    " \n",
    "'''python\n",
    "range(10)         -> [0, 1, 2, 3, 4, 5, 6, 7, 8, 9]\n",
    "range(2, 10)      -> [2, 3, 4, 5, 6, 7, 8, 9]\n",
    "range(2, 10, 3)   -> [2, 5, 8] \n",
    " - 2부터 3씩증가 10앞에 까지 \n",
    " - 3이 생략되면 1씩 증가\n",
    "'''"
   ]
  },
  {
   "cell_type": "code",
   "execution_count": 32,
   "metadata": {},
   "outputs": [],
   "source": [
    "#### if & for 연습 문제\n",
    " # 1. 구구단을 2~9단 까지 출력하시오\n",
    " # 2. 1 - 100까지 정수 중 2의 배수 또는 11의 배수를 모두 출력하시오\n",
    " # 4. a = [22, 1, 3, 4, 7, 9,8 ,21 ,55 ,87, 99, 19, 20, 45]에서 최대값과 최소값을 찾으시오 (sorted, sort 사용금지)\n",
    " # 5. a = [22, 1, 3, 4, 7, 98, 21, 55, 87, 99, 19, 20, 45]에서 평균을 구하세요"
   ]
  },
  {
   "cell_type": "code",
   "execution_count": null,
   "metadata": {},
   "outputs": [],
   "source": [
    "a = 1\n",
    "\n",
    "if a < "
   ]
  }
 ],
 "metadata": {
  "kernelspec": {
   "display_name": "Python 3",
   "language": "python",
   "name": "python3"
  },
  "language_info": {
   "codemirror_mode": {
    "name": "ipython",
    "version": 3
   },
   "file_extension": ".py",
   "mimetype": "text/x-python",
   "name": "python",
   "nbconvert_exporter": "python",
   "pygments_lexer": "ipython3",
   "version": "3.7.6"
  }
 },
 "nbformat": 4,
 "nbformat_minor": 4
}
