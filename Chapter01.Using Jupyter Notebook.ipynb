{
 "cells": [
  {
   "cell_type": "markdown",
   "metadata": {},
   "source": [
    "## 1.주피터 노트북은 Cell을 만들어서 사용\n",
    " - 입력모드(녹색 테두리): 사용자가 Cell에 커서를 갖다대면 타이핑 가능\n",
    " - 명령모드(파랑 테두리): 입력모드에서 ESC키를 입력하면 파랑 테두리로 변함\n",
    " \n",
    "명령 모드에서 h를 누르면 Help로 주피터 노트북의 단축키 보여줌\n",
    "\n",
    " - Shift + Enter: 현재 Cell 실행 후 하단으로 이동(하단에 Cell이 없으면 생성 후 이동)\n",
    " - Ctril + Enter : 현재 Cell 실행만 함\n",
    " - ALt + Enter: 형재  Cell 실행후 하단에 Cell 생성"
   ]
  },
  {
   "cell_type": "markdown",
   "metadata": {},
   "source": [
    "## 2.Cell Type\n",
    "- 상단 Nav 메뉴에서 [Cell]-[Cell Type]로 변경가능\n",
    "- 명령모드에서 m을 누르면 markdown Type으로 변경\n",
    "- 명령모드에서 y를 누르면 code Type으로 변경\n",
    "\n",
    "- Code: Cell 옆에 ln[ ] :이 뜨는 Cell,  코드 작성모드 [ ]안의 숫자는 몇번째 실행했는지 count 수\n",
    "- Markdown: 코드에 대한 설명 및 주석"
   ]
  },
  {
   "cell_type": "markdown",
   "metadata": {},
   "source": [
    "## 3.Markdown 명령어\n",
    "\n",
    "### 3.1 Title 만들기(#개수가 적을 수록 작은 크기의 제목)\n",
    "# Hello Python\n",
    "## Hello Python\n",
    "### Hello Python\n",
    "#### Hello Python"
   ]
  },
  {
   "cell_type": "markdown",
   "metadata": {},
   "source": [
    "### 3.2 진하게 만들기\n",
    "- 단어 앞 뒤에 **입력\n",
    "\n",
    "**python** is really cool"
   ]
  },
  {
   "cell_type": "markdown",
   "metadata": {},
   "source": [
    "### 3.3 이텔릭체 만ㄷ르기\n",
    "- 단어 앞 뒤에 *입력\n",
    "python is really *cool*"
   ]
  },
  {
   "cell_type": "markdown",
   "metadata": {},
   "source": [
    "### 3.4 순서업는 list 만들기\n",
    "- pyrhon\n",
    " - pandas\n",
    "   - depth1\n",
    "   - depth2\n",
    " - numpy\n",
    "- java\n",
    "- c++\n",
    "- golang"
   ]
  },
  {
   "cell_type": "markdown",
   "metadata": {},
   "source": [
    "### 3.5 순서있는 list 만들기\n",
    "1. python\n",
    "2. java\n",
    "3. c++"
   ]
  },
  {
   "cell_type": "markdown",
   "metadata": {},
   "source": [
    "### 3.6 인용구 만들기\n",
    "> 파이썬은 재밌다고 하더라..."
   ]
  },
  {
   "cell_type": "markdown",
   "metadata": {},
   "source": [
    "### 3.7 수식 표현하기\n",
    "\n",
    "$y=3x$"
   ]
  },
  {
   "cell_type": "markdown",
   "metadata": {},
   "source": [
    "### 3.8파이썬 코드 표현하기\n",
    "'''python\n",
    "a = 10\n",
    "pring(a)\n",
    "'''"
   ]
  },
  {
   "cell_type": "markdown",
   "metadata": {},
   "source": [
    "### 3.9 하이퍼 링크 만들기\n",
    "\n",
    "[python](https://www.python.org)"
   ]
  },
  {
   "cell_type": "markdown",
   "metadata": {},
   "source": [
    "안녕하세요  \n",
    "무민무민입니다.\n",
    "\n",
    "한줄개행은 스페이스바 두번"
   ]
  }
 ],
 "metadata": {
  "kernelspec": {
   "display_name": "Python 3",
   "language": "python",
   "name": "python3"
  },
  "language_info": {
   "codemirror_mode": {
    "name": "ipython",
    "version": 3
   },
   "file_extension": ".py",
   "mimetype": "text/x-python",
   "name": "python",
   "nbconvert_exporter": "python",
   "pygments_lexer": "ipython3",
   "version": "3.7.6"
  }
 },
 "nbformat": 4,
 "nbformat_minor": 4
}
